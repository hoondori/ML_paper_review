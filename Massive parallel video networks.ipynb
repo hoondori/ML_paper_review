{
 "cells": [
  {
   "cell_type": "markdown",
   "metadata": {},
   "source": [
    "# Massive Parallel Video Network\n",
    "\n",
    "- [https://arxiv.org/pdf/1806.03863.pdf](https://arxiv.org/pdf/1806.03863.pdf)"
   ]
  },
  {
   "cell_type": "markdown",
   "metadata": {},
   "source": [
    "## 요약\n",
    "\n",
    "* Video model을 잘 develop해서 계산 성능 향상을 도모해보자\n",
    "  * 계산 성능 향상\n",
    "    * Max throughput, min latency, reduction of clock cycle\n",
    "* Video model 개선 아이디어\n",
    "  * Causality\n",
    "  * Pipeline을 통한 병렬 처리\n",
    "  * Multi-rate clock 적용\n",
    "  * Distilliation of sequential to parallel\n",
    "  * Other wiring - temporal filtering and feedback\n",
    "* 실험 및 결론\n",
    "  * 병렬 처리를 많이 하면 효율성 증가, but 정확도 감소, trade-off \n",
    "  "
   ]
  },
  {
   "cell_type": "markdown",
   "metadata": {},
   "source": [
    "## 소개\n",
    "\n",
    "* 기존 비디오 관련 논의\n",
    "  * 상호 연관된 이미지의 연속으로 보고 이로부터 rich한 정보 추출\n",
    "    * ex) temporal smoothness, reduction of uncertainty, change detection\n",
    "  * 미진했던 점 => 병렬처리를 통한 프로세승 효율성\n",
    "  * 그냥 sequential한 처리의 한계\n",
    "    * Good prediction을 얻는데까지 시간 소요\n",
    "    * GPU는 남아도는데도(under-utilization)\n",
    "* Computer Processor의 pipeline을 생각해보자\n",
    "\n",
    "![](./images/parallel/03.png)\n",
    "\n",
    "![](./images/parallel/02.png)\n",
    "\n",
    "* 4가지 contribution\n",
    "  * Pipeline 적용을 통한 Predictive depth-parallelism\n",
    "  * Deep feature는 천천히 변하는 것에 착안한 multi-clock 적용\n",
    "  * Parallel 모델은 학습이 어려운데 distillation of sequential to parallel 로 학습 보강\n",
    "  * 다른 wiring도 고려 : temporal filtering and feedback\n"
   ]
  },
  {
   "cell_type": "markdown",
   "metadata": {},
   "source": [
    "## Efficient online video models\n",
    "\n",
    "* On-line이다. 즉 미래 데이터 이용이 어렵다\n",
    "* Video model을 정의하는 것이 필요\n",
    "  * Info latency, predict latency\n",
    " \n",
    "![](./images/parallel/04.png)\n"
   ]
  },
  {
   "cell_type": "markdown",
   "metadata": {},
   "source": [
    "## Pipelined operations and temporal receptive field\n",
    "\n",
    "* Standard:  symmetric triangle\n",
    "* causal : right-angled triangle\n",
    "* Proposed : skewed triangle\n",
    "  * info latency > 0, predicted latency = 0\n",
    "\n",
    "\n",
    "![](./images/parallel/05.png)"
   ]
  },
  {
   "cell_type": "markdown",
   "metadata": {},
   "source": [
    "## Level of parallelism\n",
    "\n",
    "![](./images/parallel/06.png)\n",
    "\n",
    "* Subnetwork별로 parallel과 sequential 다르게 설정\n",
    "* Tradeoff accuracy and efficiency\n",
    "\n",
    "## Multi-rate clocks\n",
    "\n",
    "* Deep layer에서 학습된 feature는 slow-varying feature 이다. \n",
    "  * ex) 제니퍼 로페즈 뉴런\n",
    "* 그렇다면, 빠르게 변하는 layer는 빠르게 적응, 느리게 변하는 것은 느리게 적응해보자\n",
    "* 구현을 한다면 각 레이어별로 다른 rate의 시계가 있어서\n",
    "  * Tick이 안변하면, cache된 activation을 output으로 보내고\n",
    "  * Tick이 변할 때, cache 갱신 및 output 변화\n",
    "* 실험에서는 depth가 1단계 깊어지면, change rate를 2배 느리게 함\n",
    "\n"
   ]
  },
  {
   "cell_type": "markdown",
   "metadata": {},
   "source": [
    "## Temporal filters and feedback\n",
    "\n",
    "* 비디오의 rich redundancy 활용\n",
    "\n",
    "![](./images/parallel/07.png)\n"
   ]
  },
  {
   "cell_type": "markdown",
   "metadata": {},
   "source": [
    "## Sequential-to-parallel distillation\n",
    "\n",
    "* Parallel 모델은 sequential counterpart보다 학습이 어렵다\n",
    "* 기존 distillation 방법(teacher network, student network)을 이용해서 학습 개선\n",
    "  * Teacher : causal-fully sequential \n",
    "  * Student : teacher의 activation 모방\n",
    "* 학습 목표가 분류 정확성 + activation 모방\n",
    "\n",
    "\n",
    "![](./images/parallel/08.png)\n",
    "![](./images/parallel/09.png)\n",
    "\n"
   ]
  },
  {
   "cell_type": "markdown",
   "metadata": {},
   "source": [
    "## Experiments\n",
    "\n",
    "* Network\n",
    "  * Densenet \n",
    "    * No parallelism, has skip connection \n",
    "  * Inception \n",
    "    * Has parallism, no skip connection\n",
    "* Task\n",
    "  * Human keypoint localization\n",
    "  * Action classification\n",
    "  \n",
    "![](./images/parallel/10.png)\n",
    "![](./images/parallel/11.png)\n",
    "![](./images/parallel/12.png)\n",
    "![](./images/parallel/13.png)\n",
    "\n"
   ]
  }
 ],
 "metadata": {
  "kernelspec": {
   "display_name": "Python 3",
   "language": "python",
   "name": "python3"
  },
  "language_info": {
   "codemirror_mode": {
    "name": "ipython",
    "version": 3
   },
   "file_extension": ".py",
   "mimetype": "text/x-python",
   "name": "python",
   "nbconvert_exporter": "python",
   "pygments_lexer": "ipython3",
   "version": "3.6.6"
  }
 },
 "nbformat": 4,
 "nbformat_minor": 2
}

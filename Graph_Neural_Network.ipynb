{
 "cells": [
  {
   "cell_type": "markdown",
   "metadata": {},
   "source": [
    "# Graph Neural Networks: A Review of Methods and Applications\n",
    "\n",
    "## Summary\n",
    "\n",
    "* graph data : rich relation information\n",
    "* GNN capture the dependence of graphs via message passing between the nodes of graphs\n",
    "* Recent advances in architectures, optimization techniques, and parallel computation \n",
    "  * Graph convolution neural networks\n",
    "  * Gated GNN\n",
    "  * Attention Graph"
   ]
  },
  {
   "cell_type": "markdown",
   "metadata": {},
   "source": [
    "## Introduction \n",
    "\n",
    "#### graph everywhere\n",
    "  * social network\n",
    "  * protein-protein intraction graph\n",
    "  * knowledge graph\n",
    "  \n",
    "#### CNN handle grid-like graph somehow\n",
    "\n",
    "* multi-scale localized feature extraction\n",
    "* but limited in eculidian grid space\n",
    "![](./images/gnn/06.png)\n",
    "\n",
    "#### Graph embedding\n",
    "\n",
    "* learns to represent graph in low-dimensional vectors.\n",
    "  * DeepWalk (B. Perozzi, 2014)\n",
    "  * Node2Vec (A. Grover, 2016)\n",
    "  * SDNE (D. Wang, 2016)"
   ]
  },
  {
   "cell_type": "markdown",
   "metadata": {},
   "source": [
    "## Review of Original Graph Neural Network \n",
    "\n",
    "* F. Scarselli, The graph neural network model. IEEE, 2009\n",
    "\n",
    "### Graph definition\n",
    "![](./images/gnn/07.png)\n",
    "\n",
    "### Node state, Node output \n",
    "![](./images/gnn/08.png)\n",
    "![](./images/gnn/09.png)\n",
    "\n",
    "### Model\n",
    "![](./images/gnn/10.png)\n",
    "![](./images/gnn/11.png)\n",
    "\n",
    "### steady state of node by iteration \n",
    "\n",
    "![](./images/gnn/12.png)\n",
    "![](./images/gnn/13.png)\n",
    "\n",
    "### Learning algorithm with error function\n",
    "\n",
    "![](./images/gnn/15.png)\n",
    "![](./images/gnn/14.png)\n",
    "\n",
    "\n",
    "\n"
   ]
  },
  {
   "cell_type": "markdown",
   "metadata": {},
   "source": [
    "## Variants of Graph Neural Networks\n",
    "\n",
    "![](./images/gnn/16.png)"
   ]
  },
  {
   "cell_type": "markdown",
   "metadata": {},
   "source": [
    "## Non-spectral Graph Neural Networks\n",
    "\n",
    "* Spectral Networks and Deep Locally Connected Networks on Graphs, Lecun, 2013\n",
    "   * general graphs is to consider multiscale, hierarchical, local receptive fields,\n",
    "\n",
    "* multi-resolusion clustering\n",
    "![](./images/gnn/18.png)\n",
    "\n",
    "* convolution on spatial neighborhood with kernel\n",
    "\n",
    "![](./images/gnn/19.png)\n",
    "![](./images/gnn/20.png)\n",
    "\n",
    "\n"
   ]
  },
  {
   "cell_type": "markdown",
   "metadata": {},
   "source": [
    "## Spectral Graph Neural Networks\n",
    "\n",
    "![](./images/gnn/33.png)\n",
    "![](./images/gnn/34.png)\n",
    "\n",
    "* Extending Convolutions via the Laplacian Spectrum\n",
    "![](./images/gnn/21.png)\n",
    "\n",
    "\n",
    "* Diffusion-Convolutional Neural Networks, 2016\n",
    "![](./images/gnn/17.png)\n",
    "![](./images/gnn/22.png)"
   ]
  },
  {
   "cell_type": "markdown",
   "metadata": {},
   "source": [
    "## Graph Neural Networks Attention\n",
    "\n",
    "* single graph attention layer\n",
    "\n",
    "![](./images/gnn/35.png)\n",
    "![](./images/gnn/36.png)\n",
    "![](./images/gnn/37.png)\n",
    "![](./images/gnn/38.png)\n",
    "![](./images/gnn/39.png)\n",
    "![](./images/gnn/40.png)"
   ]
  },
  {
   "cell_type": "markdown",
   "metadata": {},
   "source": [
    "## GATED GRAPH SEQUENCE NEURAL NETWORKS\n",
    "\n",
    "(TODO)\n",
    "\n"
   ]
  },
  {
   "cell_type": "code",
   "execution_count": null,
   "metadata": {},
   "outputs": [],
   "source": []
  }
 ],
 "metadata": {
  "kernelspec": {
   "display_name": "Python 3",
   "language": "python",
   "name": "python3"
  },
  "language_info": {
   "codemirror_mode": {
    "name": "ipython",
    "version": 3
   },
   "file_extension": ".py",
   "mimetype": "text/x-python",
   "name": "python",
   "nbconvert_exporter": "python",
   "pygments_lexer": "ipython3",
   "version": "3.6.6"
  }
 },
 "nbformat": 4,
 "nbformat_minor": 2
}

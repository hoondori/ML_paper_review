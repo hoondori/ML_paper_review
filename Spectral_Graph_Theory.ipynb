{
 "cells": [
  {
   "cell_type": "markdown",
   "metadata": {},
   "source": [
    "## Digress : Graph Partitioning\n",
    "\n",
    "### Graph partitioning w.r.t balacing and minimizing cuts\n",
    "\n",
    "![](./images/gnn/04.png)\n",
    "![](./images/gnn/05.png)\n",
    "\n",
    "### Graph partitioning algorithm\n",
    "\n",
    "* Laplacian = Degree - Incident Matrix\n",
    "* # of edges in two-partition = x_t*L*x\n",
    "* Graph has k connected-components iff k samllest eigenvalues are all = 0, (Fidler, 1973)\n",
    "\n",
    "![](./images/gnn/01.png)\n",
    "![](./images/gnn/02.png)\n",
    "![](./images/gnn/03.png)\n"
   ]
  },
  {
   "cell_type": "markdown",
   "metadata": {},
   "source": [
    "### Spectral Graph Theory\n",
    "\n",
    "![](./images/gnn/23.png)\n",
    "![](./images/gnn/24.png)\n",
    "![](./images/gnn/25.png)\n",
    "![](./images/gnn/26.png)\n",
    "![](./images/gnn/27.png)\n",
    "![](./images/gnn/28.png)\n",
    "![](./images/gnn/29.png)\n",
    "![](./images/gnn/30.png)\n",
    "![](./images/gnn/31.png)\n",
    "![](./images/gnn/32.png)"
   ]
  },
  {
   "cell_type": "code",
   "execution_count": null,
   "metadata": {},
   "outputs": [],
   "source": []
  }
 ],
 "metadata": {
  "kernelspec": {
   "display_name": "Python 3",
   "language": "python",
   "name": "python3"
  },
  "language_info": {
   "codemirror_mode": {
    "name": "ipython",
    "version": 3
   },
   "file_extension": ".py",
   "mimetype": "text/x-python",
   "name": "python",
   "nbconvert_exporter": "python",
   "pygments_lexer": "ipython3",
   "version": "3.6.6"
  }
 },
 "nbformat": 4,
 "nbformat_minor": 2
}
